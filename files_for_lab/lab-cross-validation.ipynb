{
 "cells": [
  {
   "cell_type": "code",
   "execution_count": 13,
   "id": "7683f26a-4d31-47ac-a36e-81c9f8a395f0",
   "metadata": {},
   "outputs": [],
   "source": [
    "import pandas as pd\n",
    "import numpy as np\n",
    "import matplotlib.pyplot as plt\n",
    "import seaborn as sns\n",
    "\n",
    "from sklearn.model_selection import train_test_split\n",
    "from sklearn.preprocessing import StandardScaler\n",
    "from sklearn.linear_model import LogisticRegression\n",
    "from sklearn.metrics import accuracy_score\n",
    "from sklearn.utils import resample\n",
    "from sklearn.tree import DecisionTreeClassifier\n",
    "pd.set_option('display.max_columns',None)"
   ]
  },
  {
   "cell_type": "code",
   "execution_count": 2,
   "id": "3cf7c35e-d618-48f1-baea-33e63cc85424",
   "metadata": {},
   "outputs": [
    {
     "data": {
      "text/plain": [
       "(7043, 16)"
      ]
     },
     "execution_count": 2,
     "metadata": {},
     "output_type": "execute_result"
    }
   ],
   "source": [
    "data = pd.read_csv('Customer-Churn.csv')\n",
    "data.shape"
   ]
  },
  {
   "cell_type": "code",
   "execution_count": 3,
   "id": "fab3c401-d27c-49d8-a0a5-aa5d69e1ac18",
   "metadata": {},
   "outputs": [],
   "source": [
    "data['TotalCharges'] = pd.to_numeric(data['TotalCharges'], errors='coerce')\n"
   ]
  },
  {
   "cell_type": "code",
   "execution_count": 4,
   "id": "910395d2-7985-4165-912b-9a1632c31f1d",
   "metadata": {},
   "outputs": [
    {
     "name": "stdout",
     "output_type": "stream",
     "text": [
      "Missing values count:\n",
      " gender               0\n",
      "SeniorCitizen        0\n",
      "Partner              0\n",
      "Dependents           0\n",
      "tenure               0\n",
      "PhoneService         0\n",
      "OnlineSecurity       0\n",
      "OnlineBackup         0\n",
      "DeviceProtection     0\n",
      "TechSupport          0\n",
      "StreamingTV          0\n",
      "StreamingMovies      0\n",
      "Contract             0\n",
      "MonthlyCharges       0\n",
      "TotalCharges        11\n",
      "Churn                0\n",
      "dtype: int64\n"
     ]
    }
   ],
   "source": [
    "missing_values_count = data.isnull().sum()\n",
    "print(\"Missing values count:\\n\", missing_values_count)"
   ]
  },
  {
   "cell_type": "code",
   "execution_count": 5,
   "id": "3c1427ef-2c37-4a05-9e54-828d0f79b0f3",
   "metadata": {},
   "outputs": [],
   "source": [
    "data = data.dropna()"
   ]
  },
  {
   "cell_type": "code",
   "execution_count": 6,
   "id": "c02948c5-e34c-434f-afac-6df8ebdb57fc",
   "metadata": {},
   "outputs": [],
   "source": [
    "features = ['tenure', 'SeniorCitizen', 'MonthlyCharges', 'TotalCharges']\n",
    "X = data[features]\n",
    "y=data['Churn']"
   ]
  },
  {
   "cell_type": "code",
   "execution_count": 7,
   "id": "bd50a94f-573e-462f-b3b0-fb2d025541cd",
   "metadata": {},
   "outputs": [
    {
     "name": "stdout",
     "output_type": "stream",
     "text": [
      "Accuracy on test data: 0.78\n"
     ]
    }
   ],
   "source": [
    "scaler = StandardScaler()\n",
    "X_scaled = scaler.fit_transform(X)\n",
    "X_train, X_test, y_train, y_test = train_test_split(X_scaled, data['Churn'], test_size=0.2, random_state=42)\n",
    "logreg_model = LogisticRegression()\n",
    "logreg_model.fit(X_train, y_train)\n",
    "y_pred = logreg_model.predict(X_test)\n",
    "accuracy = accuracy_score(y_test, y_pred)\n",
    "\n",
    "print(f\"Accuracy on test data: {accuracy:.2f}\")"
   ]
  },
  {
   "cell_type": "code",
   "execution_count": 8,
   "id": "c67afd0a-4949-4f27-8ff3-09d3453c1fe0",
   "metadata": {},
   "outputs": [
    {
     "name": "stdout",
     "output_type": "stream",
     "text": [
      "Class distribution before resampling:\n",
      "No     4130\n",
      "Yes    1495\n",
      "Name: Churn, dtype: int64\n"
     ]
    }
   ],
   "source": [
    "print(\"Class distribution before resampling:\")\n",
    "print(y_train.value_counts())"
   ]
  },
  {
   "cell_type": "code",
   "execution_count": 9,
   "id": "93ecf78a-6e3e-47c5-ab67-bbc84348c0f5",
   "metadata": {},
   "outputs": [
    {
     "data": {
      "text/plain": [
       "No     5163\n",
       "Yes    5163\n",
       "Name: Churn, dtype: int64"
      ]
     },
     "execution_count": 9,
     "metadata": {},
     "output_type": "execute_result"
    }
   ],
   "source": [
    "from imblearn.over_sampling import SMOTE\n",
    "smote = SMOTE()\n",
    "X_sm, y_sm = smote.fit_resample(X, y)\n",
    "y_sm.value_counts()"
   ]
  },
  {
   "cell_type": "markdown",
   "id": "015dbcf5-4cb2-4b88-9951-b64299f0faff",
   "metadata": {},
   "source": [
    "logistic regression"
   ]
  },
  {
   "cell_type": "code",
   "execution_count": 19,
   "id": "bc0644a1-0c46-4500-b30f-eb864b0efd18",
   "metadata": {},
   "outputs": [],
   "source": [
    "scaler = StandardScaler()\n",
    "X_scaled_sm = scaler.fit_transform(X_sm)\n",
    "X_train_sm, X_test_sm, y_train_sm, y_test_sm = train_test_split(X_scaled_sm, y_sm, test_size=0.2, random_state=42)"
   ]
  },
  {
   "cell_type": "code",
   "execution_count": 20,
   "id": "f63238ac-2e86-4c97-944a-44606b54922a",
   "metadata": {},
   "outputs": [
    {
     "name": "stdout",
     "output_type": "stream",
     "text": [
      "Accuracy on test data: 0.74\n"
     ]
    }
   ],
   "source": [
    "logreg_model = LogisticRegression()\n",
    "logreg_model.fit(X_train_sm, y_train_sm)\n",
    "y_pred_sm = logreg_model.predict(X_test_sm)\n",
    "accuracy = accuracy_score(y_test_sm, y_pred_sm)\n",
    "\n",
    "print(f\"Accuracy on test data: {accuracy:.2f}\")"
   ]
  },
  {
   "cell_type": "markdown",
   "id": "5bdbee80-6233-4ae6-b91a-abe555369ea5",
   "metadata": {},
   "source": [
    "decision tree classifier"
   ]
  },
  {
   "cell_type": "code",
   "execution_count": 25,
   "id": "e9e7e150-b6b6-4f11-82b7-fbabdfe22806",
   "metadata": {},
   "outputs": [
    {
     "name": "stdout",
     "output_type": "stream",
     "text": [
      "Accuracy on test data: 0.73\n"
     ]
    }
   ],
   "source": [
    "dt_model = DecisionTreeClassifier(random_state=42)\n",
    "dt_model.fit(X_train_sm, y_train_sm)\n",
    "y_pred_sm = dt_model.predict(X_test_sm)\n",
    "accuracy_dt = accuracy_score(y_test_sm, y_pred_sm)\n",
    "print(f\"Accuracy on test data: {accuracy_dt:.2f}\")"
   ]
  },
  {
   "cell_type": "markdown",
   "id": "42148e21-aeb2-4bb4-b7cf-bd2dfd169b7c",
   "metadata": {},
   "source": [
    "The Log model is slightly better"
   ]
  },
  {
   "cell_type": "code",
   "execution_count": 28,
   "id": "610909e1-580e-4543-ab4a-7ac1c1c7d434",
   "metadata": {},
   "outputs": [
    {
     "data": {
      "text/plain": [
       "No     4610\n",
       "Yes    1869\n",
       "Name: Churn, dtype: int64"
      ]
     },
     "execution_count": 28,
     "metadata": {},
     "output_type": "execute_result"
    }
   ],
   "source": [
    "from imblearn.under_sampling import TomekLinks\n",
    "tl = TomekLinks(sampling_strategy='majority')\n",
    "X_tl, y_tl = tl.fit_resample(X, y)\n",
    "y_tl.value_counts()"
   ]
  },
  {
   "cell_type": "code",
   "execution_count": 29,
   "id": "959c3cf7-fbd1-43d4-bef2-1755ddba8821",
   "metadata": {},
   "outputs": [],
   "source": [
    "scaler = StandardScaler()\n",
    "X_scaled_tl = scaler.fit_transform(X_tl)\n",
    "X_train_tl, X_test_tl, y_train_tl, y_test_tl = train_test_split(X_scaled_tl, y_tl, test_size=0.2, random_state=42)\n"
   ]
  },
  {
   "cell_type": "code",
   "execution_count": 30,
   "id": "d702f5c5-f173-4680-bca3-49704ecf0e3d",
   "metadata": {},
   "outputs": [
    {
     "name": "stdout",
     "output_type": "stream",
     "text": [
      "Accuracy on test data: 0.77\n"
     ]
    }
   ],
   "source": [
    "logreg_model = LogisticRegression()\n",
    "logreg_model.fit(X_train_tl, y_train_tl)\n",
    "y_pred_tl = logreg_model.predict(X_test_tl)\n",
    "accuracy = accuracy_score(y_test_tl, y_pred_tl)\n",
    "\n",
    "print(f\"Accuracy on test data: {accuracy:.2f}\")"
   ]
  },
  {
   "cell_type": "code",
   "execution_count": 31,
   "id": "9230336a-71f4-443e-b0c4-6acbd0b2cbcf",
   "metadata": {},
   "outputs": [
    {
     "name": "stdout",
     "output_type": "stream",
     "text": [
      "Accuracy on test data: 0.74\n"
     ]
    }
   ],
   "source": [
    "dt_model = DecisionTreeClassifier(random_state=42)\n",
    "dt_model.fit(X_train_tl, y_train_tl)\n",
    "y_pred_tl = dt_model.predict(X_test_tl)\n",
    "accuracy_dt = accuracy_score(y_test_tl, y_pred_tl)\n",
    "print(f\"Accuracy on test data: {accuracy_dt:.2f}\")"
   ]
  },
  {
   "cell_type": "markdown",
   "id": "b25af1f3-1552-4f36-8cf3-5fbccfb8bfad",
   "metadata": {},
   "source": [
    "The Log model is slightly better. The second scaler worked better aswell."
   ]
  }
 ],
 "metadata": {
  "kernelspec": {
   "display_name": "Python 3 (ipykernel)",
   "language": "python",
   "name": "python3"
  },
  "language_info": {
   "codemirror_mode": {
    "name": "ipython",
    "version": 3
   },
   "file_extension": ".py",
   "mimetype": "text/x-python",
   "name": "python",
   "nbconvert_exporter": "python",
   "pygments_lexer": "ipython3",
   "version": "3.9.12"
  }
 },
 "nbformat": 4,
 "nbformat_minor": 5
}
